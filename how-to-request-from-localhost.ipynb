{
 "cells": [
  {
   "cell_type": "code",
   "execution_count": 1,
   "metadata": {},
   "outputs": [],
   "source": [
    "# !pip3 install requests pycookiecheat elasticsearch elasticsearch-dsl"
   ]
  },
  {
   "cell_type": "code",
   "execution_count": 2,
   "metadata": {},
   "outputs": [],
   "source": [
    "from elasticsearch import Elasticsearch\n",
    "from elasticsearch_dsl import Search\n",
    "from pycookiecheat import chrome_cookies\n",
    "import requests"
   ]
  },
  {
   "cell_type": "markdown",
   "metadata": {},
   "source": [
    "## how-to\n",
    "\n",
    "1. You need to login https://elasticsearch.malaysiaai.ml using your Chrome.\n",
    "2. Get the cookies."
   ]
  },
  {
   "cell_type": "code",
   "execution_count": 3,
   "metadata": {},
   "outputs": [],
   "source": [
    "url = 'https://elasticsearch.malaysiaai.ml'\n",
    "cookies = chrome_cookies(url)"
   ]
  },
  {
   "cell_type": "code",
   "execution_count": 4,
   "metadata": {
    "scrolled": false
   },
   "outputs": [
    {
     "data": {
      "text/plain": [
       "{'name': 'malaysia-ai',\n",
       " 'cluster_name': 'elasticsearch',\n",
       " 'cluster_uuid': 'B2YuhAj3T9i2KXnBbAc1uA',\n",
       " 'version': {'number': '7.15.0',\n",
       "  'build_flavor': 'default',\n",
       "  'build_type': 'deb',\n",
       "  'build_hash': '79d65f6e357953a5b3cbcc5e2c7c21073d89aa29',\n",
       "  'build_date': '2021-09-16T03:05:29.143308416Z',\n",
       "  'build_snapshot': False,\n",
       "  'lucene_version': '8.9.0',\n",
       "  'minimum_wire_compatibility_version': '6.8.0',\n",
       "  'minimum_index_compatibility_version': '6.0.0-beta1'},\n",
       " 'tagline': 'You Know, for Search'}"
      ]
     },
     "execution_count": 4,
     "metadata": {},
     "output_type": "execute_result"
    }
   ],
   "source": [
    "requests.get(url, cookies = cookies).json()"
   ]
  },
  {
   "cell_type": "code",
   "execution_count": 5,
   "metadata": {},
   "outputs": [],
   "source": [
    "cookie_string = []\n",
    "for k, v in cookies.items():\n",
    "    cookie_string.append(f'{k}={v}')\n",
    "cookie_string = '; '.join(cookie_string)"
   ]
  },
  {
   "cell_type": "code",
   "execution_count": 6,
   "metadata": {},
   "outputs": [
    {
     "data": {
      "text/plain": [
       "{'name': 'malaysia-ai',\n",
       " 'cluster_name': 'elasticsearch',\n",
       " 'cluster_uuid': 'B2YuhAj3T9i2KXnBbAc1uA',\n",
       " 'version': {'number': '7.15.0',\n",
       "  'build_flavor': 'default',\n",
       "  'build_type': 'deb',\n",
       "  'build_hash': '79d65f6e357953a5b3cbcc5e2c7c21073d89aa29',\n",
       "  'build_date': '2021-09-16T03:05:29.143308416Z',\n",
       "  'build_snapshot': False,\n",
       "  'lucene_version': '8.9.0',\n",
       "  'minimum_wire_compatibility_version': '6.8.0',\n",
       "  'minimum_index_compatibility_version': '6.0.0-beta1'},\n",
       " 'tagline': 'You Know, for Search'}"
      ]
     },
     "execution_count": 6,
     "metadata": {},
     "output_type": "execute_result"
    }
   ],
   "source": [
    "client = Elasticsearch(hosts = [url], headers = {'Cookie': cookie_string})\n",
    "resp = client.info()\n",
    "resp"
   ]
  },
  {
   "cell_type": "code",
   "execution_count": 8,
   "metadata": {},
   "outputs": [],
   "source": [
    "s = Search(using=client, index = '.kibana_7.15.0_001')\n",
    "s = s[:1]"
   ]
  },
  {
   "cell_type": "code",
   "execution_count": 11,
   "metadata": {},
   "outputs": [
    {
     "data": {
      "text/plain": [
       "{'took': 1,\n",
       " 'timed_out': False,\n",
       " '_shards': {'total': 1, 'successful': 1, 'skipped': 0, 'failed': 0},\n",
       " 'hits': {'total': {'value': 17, 'relation': 'eq'},\n",
       "  'max_score': 1.0,\n",
       "  'hits': [{'_index': '.kibana_7.15.0_001',\n",
       "    '_type': '_doc',\n",
       "    '_id': 'config:7.15.0',\n",
       "    '_score': 1.0,\n",
       "    '_source': {'config': {'buildNum': 44040},\n",
       "     'type': 'config',\n",
       "     'references': [],\n",
       "     'migrationVersion': {'config': '7.13.0'},\n",
       "     'coreMigrationVersion': '7.15.0',\n",
       "     'updated_at': '2021-09-26T13:50:17.167Z'}}]}}"
      ]
     },
     "execution_count": 11,
     "metadata": {},
     "output_type": "execute_result"
    }
   ],
   "source": [
    "response = s.execute()\n",
    "response.to_dict()"
   ]
  }
 ],
 "metadata": {
  "kernelspec": {
   "display_name": "Python 3",
   "language": "python",
   "name": "python3"
  },
  "language_info": {
   "codemirror_mode": {
    "name": "ipython",
    "version": 3
   },
   "file_extension": ".py",
   "mimetype": "text/x-python",
   "name": "python",
   "nbconvert_exporter": "python",
   "pygments_lexer": "ipython3",
   "version": "3.7.7"
  }
 },
 "nbformat": 4,
 "nbformat_minor": 4
}
